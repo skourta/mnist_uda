{
 "cells": [
  {
   "cell_type": "markdown",
   "metadata": {
    "id": "USSV_OlCFKOD"
   },
   "source": [
    "# Laod data and prepare it\n",
    "This simple example demonstrates how to plug TensorFlow Datasets (TFDS) into a Keras model.\n"
   ]
  },
  {
   "cell_type": "code",
   "execution_count": 1,
   "metadata": {
    "id": "TTBSvHcSLBzc"
   },
   "outputs": [
    {
     "name": "stderr",
     "output_type": "stream",
     "text": [
      "2021-12-10 21:12:06.522999: W tensorflow/stream_executor/platform/default/dso_loader.cc:64] Could not load dynamic library 'libcudart.so.11.0'; dlerror: libcudart.so.11.0: cannot open shared object file: No such file or directory\n",
      "2021-12-10 21:12:06.523039: I tensorflow/stream_executor/cuda/cudart_stub.cc:29] Ignore above cudart dlerror if you do not have a GPU set up on your machine.\n"
     ]
    }
   ],
   "source": [
    "import tensorflow as tf\n",
    "import tensorflow_datasets as tfds\n",
    "import numpy as np\n",
    "import matplotlib.pyplot as plt\n",
    "from tensorflow import keras\n",
    "import math\n",
    "import time\n",
    "from tqdm import trange"
   ]
  },
  {
   "cell_type": "code",
   "execution_count": 2,
   "metadata": {
    "colab": {
     "base_uri": "https://localhost:8080/"
    },
    "id": "ZUMhCXhFXdHQ",
    "outputId": "db61f7e1-2f58-47a6-dc93-6d2853502cc8"
   },
   "outputs": [
    {
     "name": "stdout",
     "output_type": "stream",
     "text": [
      "Number of original training examples: 60000\n",
      "Number of original test examples: 10000\n"
     ]
    }
   ],
   "source": [
    "(x_train, y_train), (x_test, y_test) = tf.keras.datasets.mnist.load_data()\n",
    "\n",
    "# Rescale the images from [0,255] to the [0.0,1.0] range.\n",
    "x_train, x_test = x_train[..., np.newaxis]/255.0, x_test[..., np.newaxis]/255.0\n",
    "\n",
    "print(\"Number of original training examples:\", len(x_train))\n",
    "print(\"Number of original test examples:\", len(x_test))"
   ]
  },
  {
   "cell_type": "code",
   "execution_count": 3,
   "metadata": {
    "colab": {
     "base_uri": "https://localhost:8080/",
     "height": 304
    },
    "id": "n_Ws7js48FGI",
    "outputId": "b56caf92-7be8-4748-ab9b-dfcd2cd6b1f8"
   },
   "outputs": [
    {
     "name": "stdout",
     "output_type": "stream",
     "text": [
      "5\n"
     ]
    },
    {
     "data": {
      "text/plain": [
       "<matplotlib.colorbar.Colorbar at 0x7fecd51cd580>"
      ]
     },
     "execution_count": 3,
     "metadata": {},
     "output_type": "execute_result"
    },
    {
     "data": {
      "image/png": "[encoded data removed]",
      "text/plain": [
       "<Figure size 432x288 with 2 Axes>"
      ]
     },
     "metadata": {
      "needs_background": "light"
     },
     "output_type": "display_data"
    }
   ],
   "source": [
    "print(y_train[0])\n",
    "\n",
    "plt.imshow(x_train[0, :, :, 0])\n",
    "plt.colorbar()"
   ]
  },
  {
   "cell_type": "code",
   "execution_count": 4,
   "metadata": {
    "id": "1rhSpKtEuD6C"
   },
   "outputs": [],
   "source": [
    "from scipy.ndimage.interpolation import shift\n",
    "\n",
    "# Method to shift the image by given dimension\n",
    "def shift_image(image, dx, dy):\n",
    "    image = image.reshape((28, 28))\n",
    "    shifted_image = shift(image, [dy, dx], cval=0, mode=\"constant\")\n",
    "    return shifted_image\n"
   ]
  },
  {
   "cell_type": "code",
   "execution_count": 5,
   "metadata": {
    "id": "18xqJkKTUAh0"
   },
   "outputs": [],
   "source": [
    "idxs = np.ones(100)\n",
    "for digit in range(10):\n",
    "  digit_args = np.argwhere(y_train == digit)[:10,0]\n",
    "  np.random.shuffle(digit_args)\n",
    "  idxs[digit*10:(digit+1)*10] = digit_args\n",
    "np.random.shuffle(idxs)\n",
    "idxs = list(idxs.astype(\"int\"))"
   ]
  },
  {
   "cell_type": "code",
   "execution_count": 6,
   "metadata": {
    "id": "i7nS0QkEvoML"
   },
   "outputs": [],
   "source": [
    "x_train_labeled = x_train[idxs]\n",
    "y_train_labeled = y_train[idxs]\n",
    "x_train_unlabeled_original = np.delete(x_train.copy(), idxs, axis=0)\n",
    "x_train_unlabeled = x_train_unlabeled_original[:int(x_train_unlabeled_original.shape[0]/2)] \n",
    "# Creating Augmented Dataset\n",
    "# x_train_augmented = x_train_unlabeled_original[int(x_train_unlabeled_original.shape[0]/2):] \n",
    "x_train_augmented = []\n",
    "for image in x_train_unlabeled:\n",
    "    x_train_augmented.append(np.expand_dims(shift_image(image, 3, 3), axis=-1))\n",
    "x_train_augmented = np.array(x_train_augmented)"
   ]
  },
  {
   "cell_type": "markdown",
   "metadata": {
    "id": "SwtyPq4_0De9"
   },
   "source": [
    "## Seperate the unlabeled images into original and augmeneted images "
   ]
  },
  {
   "cell_type": "code",
   "execution_count": 7,
   "metadata": {
    "id": "YKigGgCD7z-_"
   },
   "outputs": [],
   "source": [
    "digit_idxs = {}\n",
    "for digit in range(10):\n",
    "  digit_args = np.argwhere(y_train == digit)[:,0]\n",
    "  np.random.shuffle(digit_args)\n",
    "  digit_idxs[digit] = list(digit_args.astype('int'))"
   ]
  },
  {
   "cell_type": "code",
   "execution_count": 8,
   "metadata": {
    "colab": {
     "base_uri": "https://localhost:8080/"
    },
    "id": "AiCgcetk8fIT",
    "outputId": "2f55d71a-b1d4-4c00-b47f-30c21fef4f30"
   },
   "outputs": [
    {
     "data": {
      "text/plain": [
       "2710"
      ]
     },
     "execution_count": 8,
     "metadata": {},
     "output_type": "execute_result"
    }
   ],
   "source": [
    "elt_per_class = int(min([len(idxs) for idxs in digit_idxs.values()]) / 2)\n",
    "elt_per_class"
   ]
  },
  {
   "cell_type": "code",
   "execution_count": 9,
   "metadata": {
    "id": "9qT0_vqG9gqV"
   },
   "outputs": [],
   "source": [
    "digit_data = {}\n",
    "digit_label = {}\n",
    "for digit in np.unique(y_train):\n",
    "  digit_data[digit] = ( x_train[ digit_idxs[digit][:elt_per_class] ] , x_train[ digit_idxs[digit][elt_per_class:elt_per_class*2] ])\n",
    "  digit_label[digit] = ( y_train[ digit_idxs[digit][:elt_per_class] ] , y_train[ digit_idxs[digit][elt_per_class:elt_per_class*2] ])"
   ]
  },
  {
   "cell_type": "code",
   "execution_count": 10,
   "metadata": {
    "id": "ZaWtgfQZ_E5M"
   },
   "outputs": [],
   "source": [
    "original_data = None\n",
    "original_labels = None\n",
    "for digit in np.unique(y_train):\n",
    "  if original_data is None:\n",
    "    original_data = digit_data[digit][0]\n",
    "    original_labels = digit_label[digit][0]\n",
    "  else:\n",
    "    original_data = np.concatenate((original_data, digit_data[digit][0]))\n",
    "    original_labels = np.concatenate((original_labels, digit_label[digit][0]))"
   ]
  },
  {
   "cell_type": "code",
   "execution_count": 11,
   "metadata": {
    "id": "nR0cJDbnAxs_"
   },
   "outputs": [],
   "source": [
    "augmented_data = None\n",
    "augmented_labels = None\n",
    "for digit in np.unique(y_train):\n",
    "  if augmented_data is None:\n",
    "    augmented_data = digit_data[digit][1]\n",
    "    augmented_labels = digit_label[digit][1]\n",
    "  else:\n",
    "    augmented_data = np.concatenate((augmented_data, digit_data[digit][1]))\n",
    "    augmented_labels = np.concatenate((augmented_labels, digit_label[digit][1]))"
   ]
  },
  {
   "cell_type": "code",
   "execution_count": 12,
   "metadata": {
    "id": "YDvlNdtuBvkn"
   },
   "outputs": [],
   "source": [
    "permutation = np.random.permutation(original_data.shape[0])\n",
    "augmented_data, original_data, augmented_labels, original_labels = augmented_data[permutation], original_data[permutation], augmented_labels[permutation], original_labels[permutation]"
   ]
  },
  {
   "cell_type": "code",
   "execution_count": 13,
   "metadata": {
    "colab": {
     "base_uri": "https://localhost:8080/"
    },
    "id": "niiyeDsDA2jH",
    "outputId": "cbffcfb5-9cd0-4355-f181-4c9c39f05b9f"
   },
   "outputs": [
    {
     "data": {
      "text/plain": [
       "array([ True])"
      ]
     },
     "execution_count": 13,
     "metadata": {},
     "output_type": "execute_result"
    }
   ],
   "source": [
    "np.unique(np.equal(augmented_labels, original_labels))"
   ]
  },
  {
   "cell_type": "code",
   "execution_count": 14,
   "metadata": {
    "colab": {
     "base_uri": "https://localhost:8080/"
    },
    "id": "4ZUKNoFt5rzZ",
    "outputId": "50f3874f-3894-4d72-c0a6-4177524af542"
   },
   "outputs": [
    {
     "data": {
      "text/plain": [
       "(27100, 28, 28, 1)"
      ]
     },
     "execution_count": 14,
     "metadata": {},
     "output_type": "execute_result"
    }
   ],
   "source": [
    "augmented_data.shape"
   ]
  },
  {
   "cell_type": "code",
   "execution_count": 15,
   "metadata": {
    "colab": {
     "base_uri": "https://localhost:8080/"
    },
    "id": "WPIlp8pt5uNa",
    "outputId": "82769ae0-fd43-4276-b27e-599d03ff17a3"
   },
   "outputs": [
    {
     "data": {
      "text/plain": [
       "(27100, 28, 28, 1)"
      ]
     },
     "execution_count": 15,
     "metadata": {},
     "output_type": "execute_result"
    }
   ],
   "source": [
    "original_data.shape"
   ]
  },
  {
   "cell_type": "code",
   "execution_count": 16,
   "metadata": {
    "colab": {
     "base_uri": "https://localhost:8080/",
     "height": 300
    },
    "id": "J4mLEfhOPliJ",
    "outputId": "8312b544-09e1-4d24-9fb3-34466ebd474b"
   },
   "outputs": [
    {
     "name": "stdout",
     "output_type": "stream",
     "text": [
      "4\n"
     ]
    },
    {
     "data": {
      "text/plain": [
       "<matplotlib.image.AxesImage at 0x7fecd4f6c8b0>"
      ]
     },
     "execution_count": 16,
     "metadata": {},
     "output_type": "execute_result"
    },
    {
     "data": {
      "image/png": "[encoded data removed]",
      "text/plain": [
       "<Figure size 432x288 with 1 Axes>"
      ]
     },
     "metadata": {
      "needs_background": "light"
     },
     "output_type": "display_data"
    }
   ],
   "source": [
    "print(augmented_labels[0])\n",
    "\n",
    "plt.imshow(augmented_data[0, :, :, 0])\n"
   ]
  },
  {
   "cell_type": "code",
   "execution_count": 17,
   "metadata": {
    "colab": {
     "base_uri": "https://localhost:8080/",
     "height": 282
    },
    "id": "p9E9qXEo6AW6",
    "outputId": "713bf6fd-148f-4bed-f743-7e76e8b8fd42"
   },
   "outputs": [
    {
     "data": {
      "text/plain": [
       "<matplotlib.image.AxesImage at 0x7fecd4ed6f10>"
      ]
     },
     "execution_count": 17,
     "metadata": {},
     "output_type": "execute_result"
    },
    {
     "data": {
      "image/png": "[encoded data removed]",
      "text/plain": [
       "<Figure size 432x288 with 1 Axes>"
      ]
     },
     "metadata": {
      "needs_background": "light"
     },
     "output_type": "display_data"
    }
   ],
   "source": [
    "plt.imshow(original_data[0, :, :, 0])\n"
   ]
  },
  {
   "cell_type": "markdown",
   "metadata": {
    "id": "Neovg7jzeGyQ"
   },
   "source": [
    "# New Baseline"
   ]
  },
  {
   "cell_type": "code",
   "execution_count": 18,
   "metadata": {
    "id": "sFn6gBX4Xr7_"
   },
   "outputs": [
    {
     "name": "stderr",
     "output_type": "stream",
     "text": [
      "2021-12-10 21:12:18.707815: W tensorflow/stream_executor/platform/default/dso_loader.cc:64] Could not load dynamic library 'libcuda.so.1'; dlerror: libcuda.so.1: cannot open shared object file: No such file or directory\n",
      "2021-12-10 21:12:18.707853: W tensorflow/stream_executor/cuda/cuda_driver.cc:269] failed call to cuInit: UNKNOWN ERROR (303)\n",
      "2021-12-10 21:12:18.707882: I tensorflow/stream_executor/cuda/cuda_diagnostics.cc:156] kernel driver does not appear to be running on this host (default): /proc/driver/nvidia/version does not exist\n",
      "2021-12-10 21:12:18.708095: I tensorflow/core/platform/cpu_feature_guard.cc:151] This TensorFlow binary is optimized with oneAPI Deep Neural Network Library (oneDNN) to use the following CPU instructions in performance-critical operations:  AVX2 AVX512F FMA\n",
      "To enable them in other operations, rebuild TensorFlow with the appropriate compiler flags.\n"
     ]
    }
   ],
   "source": [
    "inputs = keras.Input(shape=(28,28), name=\"digits\")\n",
    "x1 = keras.layers.Dense(128, activation=\"relu\")(inputs)\n",
    "outputs = keras.layers.Dense(10, name=\"predictions\")(x1)\n",
    "model = keras.Model(inputs=inputs, outputs=outputs)"
   ]
  },
  {
   "cell_type": "code",
   "execution_count": 19,
   "metadata": {
    "id": "a960ShGDbsop"
   },
   "outputs": [],
   "source": [
    "model = keras.Sequential([\n",
    "        tf.keras.layers.Flatten(input_shape=(28, 28)),\n",
    "        tf.keras.layers.Dense(128, activation='relu', kernel_regularizer=keras.regularizers.l2(5e-4), \n",
    "                              # kernel_initializer=keras.initializers.he_normal\n",
    "                             ),\n",
    "        tf.keras.layers.Dense(10, name=\"classifier\")\n",
    "])"
   ]
  },
  {
   "cell_type": "code",
   "execution_count": 20,
   "metadata": {
    "id": "eJtguCpGX8JO"
   },
   "outputs": [],
   "source": [
    "optimizer = keras.optimizers.Adam()\n",
    "loss_fn = keras.losses.SparseCategoricalCrossentropy(from_logits=True)\n",
    "train_acc_metric = keras.metrics.SparseCategoricalAccuracy()\n",
    "val_acc_metric = keras.metrics.SparseCategoricalAccuracy()\n",
    "batch_size = 128"
   ]
  },
  {
   "cell_type": "code",
   "execution_count": 21,
   "metadata": {
    "id": "WIfpIc2oYgh0"
   },
   "outputs": [],
   "source": [
    "labels_per_batch=10\n",
    "unlabels_per_batch=59\n",
    "all_x = None\n",
    "for i in range(int(100/labels_per_batch)):\n",
    "    if all_x is None:\n",
    "        all_x = np.concatenate((x_train_labeled[i*labels_per_batch:i*labels_per_batch+labels_per_batch], x_train_unlabeled[i*unlabels_per_batch : i*unlabels_per_batch+unlabels_per_batch], x_train_augmented[i*unlabels_per_batch: i*unlabels_per_batch+unlabels_per_batch]))\n",
    "    else:\n",
    "        all_x = np.concatenate((all_x,x_train_labeled[i*labels_per_batch:i*labels_per_batch+labels_per_batch], x_train_unlabeled[i*unlabels_per_batch : i*unlabels_per_batch+unlabels_per_batch], x_train_augmented[i*unlabels_per_batch: i*unlabels_per_batch+unlabels_per_batch]))"
   ]
  },
  {
   "cell_type": "code",
   "execution_count": 22,
   "metadata": {
    "colab": {
     "base_uri": "https://localhost:8080/"
    },
    "id": "KY1O4vZ-dVNm",
    "outputId": "7a7a90ad-bd02-4535-9ea5-539340546069"
   },
   "outputs": [
    {
     "data": {
      "text/plain": [
       "(1280, 28, 28, 1)"
      ]
     },
     "execution_count": 22,
     "metadata": {},
     "output_type": "execute_result"
    }
   ],
   "source": [
    "all_x.shape"
   ]
  },
  {
   "cell_type": "code",
   "execution_count": 24,
   "metadata": {
    "id": "3JpHTH_LcWJd"
   },
   "outputs": [],
   "source": [
    "@tf.function\n",
    "def test_step(x, y):\n",
    "    val_logits = model(x, training=False)\n",
    "    val_acc_metric.update_state(y, val_logits)"
   ]
  },
  {
   "cell_type": "code",
   "execution_count": 25,
   "metadata": {
    "id": "zMBWC3G0ctWM"
   },
   "outputs": [],
   "source": [
    "val_dataset = tf.data.Dataset.from_tensor_slices((x_test, y_test))\n",
    "val_dataset = val_dataset.batch(64)"
   ]
  },
  {
   "cell_type": "code",
   "execution_count": 26,
   "metadata": {
    "colab": {
     "base_uri": "https://localhost:8080/"
    },
    "id": "pH8a26LvYI6_",
    "outputId": "941674ba-8c00-4f8e-9d77-ce5e3d34e8af"
   },
   "outputs": [
    {
     "name": "stdout",
     "output_type": "stream",
     "text": [
      "\n",
      "Start of epoch 0\n",
      "Training loss (for one batch) at step 0: 2.2453\n",
      "Seen so far: 64 samples\n",
      "Training acc over epoch: 0.1500\n",
      "\n",
      "Start of epoch 1\n",
      "Training loss (for one batch) at step 0: 1.2183\n",
      "Seen so far: 64 samples\n",
      "Training acc over epoch: 0.8000\n",
      "\n",
      "Start of epoch 2\n",
      "Training loss (for one batch) at step 0: 0.7841\n",
      "Seen so far: 64 samples\n",
      "Training acc over epoch: 0.8600\n",
      "\n",
      "Start of epoch 3\n",
      "Training loss (for one batch) at step 0: 0.5240\n",
      "Seen so far: 64 samples\n",
      "Training acc over epoch: 0.9200\n",
      "\n",
      "Start of epoch 4\n",
      "Training loss (for one batch) at step 0: 0.3538\n",
      "Seen so far: 64 samples\n",
      "Training acc over epoch: 0.9500\n",
      "\n",
      "Start of epoch 5\n",
      "Training loss (for one batch) at step 0: 0.2274\n",
      "Seen so far: 64 samples\n",
      "Training acc over epoch: 0.9700\n",
      "\n",
      "Start of epoch 6\n",
      "Training loss (for one batch) at step 0: 0.1458\n",
      "Seen so far: 64 samples\n",
      "Training acc over epoch: 0.9900\n",
      "\n",
      "Start of epoch 7\n",
      "Training loss (for one batch) at step 0: 0.0988\n",
      "Seen so far: 64 samples\n",
      "Training acc over epoch: 1.0000\n",
      "\n",
      "Start of epoch 8\n",
      "Training loss (for one batch) at step 0: 0.0729\n",
      "Seen so far: 64 samples\n",
      "Training acc over epoch: 1.0000\n",
      "\n",
      "Start of epoch 9\n",
      "Training loss (for one batch) at step 0: 0.0567\n",
      "Seen so far: 64 samples\n",
      "Training acc over epoch: 1.0000\n"
     ]
    }
   ],
   "source": [
    "epochs = 10\n",
    "for epoch in range(epochs):\n",
    "    print(\"\\nStart of epoch %d\" % (epoch,))\n",
    "\n",
    "    # Iterate over the batches of the dataset.\n",
    "    for step in range(math.ceil(all_x.shape[0]/batch_size)):\n",
    "        x_batch_train = all_x[step*batch_size:step*batch_size+labels_per_batch]\n",
    "        y_batch_train = y_train_labeled[step*labels_per_batch:step*labels_per_batch+labels_per_batch]\n",
    "\n",
    "        # x_train_unlabeled[i*unlabels_per_batch : i*unlabels_per_batch+unlabels_per_batch]\n",
    "        # x_train_augmented[i*unlabels_per_batch: i*unlabels_per_batch+unlabels_per_batch]\n",
    "        # Open a GradientTape to record the operations run\n",
    "        # during the forward pass, which enables auto-differentiation.\n",
    "        with tf.GradientTape() as tape:\n",
    "\n",
    "            # Run the forward pass of the layer.\n",
    "            # The operations that the layer applies\n",
    "            # to its inputs are going to be recorded\n",
    "            # on the GradientTape.\n",
    "            logits = model(x_batch_train, training=True)  # Logits for this minibatch\n",
    "            # Compute the loss value for this minibatch.\n",
    "            loss_value = loss_fn(y_batch_train, logits[:labels_per_batch])\n",
    "\n",
    "        # Use the gradient tape to automatically retrieve\n",
    "        # the gradients of the trainable variables with respect to the loss.\n",
    "        grads = tape.gradient(loss_value, model.trainable_weights)\n",
    "\n",
    "        # Run one step of gradient descent by updating\n",
    "        # the value of the variables to minimize the loss.\n",
    "        optimizer.apply_gradients(zip(grads, model.trainable_weights))\n",
    "\n",
    "        # Update training metric.\n",
    "        train_acc_metric.update_state(y_batch_train, logits[:labels_per_batch])\n",
    "\n",
    "        # Log every 200 batches.\n",
    "        if step % 200 == 0:\n",
    "            print(\n",
    "                \"Training loss (for one batch) at step %d: %.4f\"\n",
    "                % (step, float(loss_value))\n",
    "            )\n",
    "            print(\"Seen so far: %s samples\" % ((step + 1) * 64))\n",
    "\n",
    "    # Display metrics at the end of each epoch.\n",
    "    train_acc = train_acc_metric.result()\n",
    "    print(\"Training acc over epoch: %.4f\" % (float(train_acc),))\n",
    "\n",
    "    # Reset training metrics at the end of each epoch\n",
    "    train_acc_metric.reset_states()"
   ]
  },
  {
   "cell_type": "code",
   "execution_count": 27,
   "metadata": {
    "colab": {
     "base_uri": "https://localhost:8080/"
    },
    "id": "kUeE13HCcm1c",
    "outputId": "e249641f-c0cb-498b-a0c6-7fd04e8f4b8a"
   },
   "outputs": [
    {
     "name": "stdout",
     "output_type": "stream",
     "text": [
      "Validation acc: 0.6991\n"
     ]
    }
   ],
   "source": [
    "for x_batch_val, y_batch_val in val_dataset:\n",
    "    val_logits = model(x_batch_val, training=False)\n",
    "    # Update val metrics\n",
    "    val_acc_metric.update_state(y_batch_val, val_logits)\n",
    "val_acc = val_acc_metric.result()\n",
    "val_acc_metric.reset_states()\n",
    "print(\"Validation acc: %.4f\" % (float(val_acc),))"
   ]
  },
  {
   "cell_type": "markdown",
   "metadata": {
    "id": "IaztNgM9gBj-"
   },
   "source": [
    "# Research Paper Implementation"
   ]
  },
  {
   "cell_type": "code",
   "execution_count": 28,
   "metadata": {
    "id": "-t_1pH5MgORE"
   },
   "outputs": [],
   "source": [
    "def _kl_divergence_with_logits(p_logits, q_logits):\n",
    "  p = tf.nn.softmax(p_logits)\n",
    "  log_p = tf.nn.log_softmax(p_logits)\n",
    "  log_q = tf.nn.log_softmax(q_logits)\n",
    "\n",
    "  kl = tf.reduce_sum(p * (log_p - log_q), -1)\n",
    "  return kl"
   ]
  },
  {
   "cell_type": "code",
   "execution_count": 29,
   "metadata": {
    "id": "-5mnovqSa-Vz"
   },
   "outputs": [],
   "source": [
    "def get_ent(logits, return_mean=True):\n",
    "  log_prob = tf.nn.log_softmax(logits, axis=-1)\n",
    "  prob = tf.exp(log_prob)\n",
    "  ent = tf.reduce_sum(-prob * log_prob, axis=-1)\n",
    "  if return_mean:\n",
    "    ent = tf.reduce_mean(ent)\n",
    "  return ent"
   ]
  },
  {
   "cell_type": "code",
   "execution_count": 30,
   "metadata": {
    "id": "RGgYZnz_UsHy"
   },
   "outputs": [],
   "source": [
    "def get_tsa_threshold(schedule, global_step, num_train_steps, start, end):\n",
    "    step_ratio = float(global_step) / float(num_train_steps)\n",
    "    if schedule == \"linear_schedule\":\n",
    "        coeff = step_ratio\n",
    "    elif schedule == \"exp_schedule\":\n",
    "        scale = 5\n",
    "        # [exp(-5), exp(0)] = [1e-2, 1]\n",
    "        coeff = tf.exp((step_ratio - 1) * scale)\n",
    "    elif schedule == \"log_schedule\":\n",
    "        scale = 5\n",
    "    # [1 - exp(0), 1 - exp(-5)] = [0, 0.99]\n",
    "        coeff = 1 - tf.exp((-step_ratio) * scale)\n",
    "    return coeff * (end - start) + start"
   ]
  },
  {
   "cell_type": "code",
   "execution_count": 31,
   "metadata": {
    "id": "3Qgn7O0jUkF5"
   },
   "outputs": [],
   "source": [
    "def anneal_sup_loss(sup_logits, sup_labels, sup_loss, global_step, nbr_steps, num_classes, tsa_schedule):\n",
    "  tsa_start = 1. / num_classes\n",
    "  eff_train_prob_threshold = get_tsa_threshold(\n",
    "      tsa_schedule, global_step, nbr_steps,\n",
    "      tsa_start, end=1)\n",
    "  one_hot_labels = tf.one_hot(\n",
    "      sup_labels, depth=num_classes, dtype=tf.float32)\n",
    "  sup_probs = tf.nn.softmax(sup_logits, axis=-1)\n",
    "  correct_label_probs = tf.reduce_sum(\n",
    "      one_hot_labels * sup_probs, axis=-1)\n",
    "  larger_than_threshold = tf.greater(\n",
    "      correct_label_probs, eff_train_prob_threshold)\n",
    "  loss_mask = 1 - tf.cast(larger_than_threshold, tf.float32)\n",
    "  loss_mask = tf.stop_gradient(loss_mask)\n",
    "  sup_loss = sup_loss * loss_mask\n",
    "  avg_sup_loss = (tf.reduce_sum(sup_loss) /\n",
    "                  tf.maximum(tf.reduce_sum(loss_mask), 1))\n",
    "  return sup_loss, avg_sup_loss"
   ]
  },
  {
   "cell_type": "markdown",
   "metadata": {
    "id": "2t6TZmlrqEd2"
   },
   "source": [
    "# Model v2"
   ]
  },
  {
   "cell_type": "code",
   "execution_count": 32,
   "metadata": {
    "id": "bCYF7QA_qGHu"
   },
   "outputs": [],
   "source": [
    "import copy\n",
    "\n",
    "def create_train(hyper, epochs=10, pretraining=False, verbose=False):\n",
    "    \n",
    "    hyper = copy.deepcopy(hyper)\n",
    "    model = keras.Sequential([\n",
    "        tf.keras.layers.Flatten(input_shape=(28, 28)),\n",
    "        tf.keras.layers.Dense(256, activation='relu', kernel_regularizer=keras.regularizers.l2(hyper[\"l2\"]), \n",
    "                              # kernel_initializer=keras.initializers.he_normal\n",
    "                             ),\n",
    "        tf.keras.layers.Dropout(hyper[\"dropout\"]),\n",
    "        tf.keras.layers.Dense(128, activation='relu', kernel_regularizer=keras.regularizers.l2(hyper[\"l2\"]), \n",
    "                              # kernel_initializer=keras.initializers.he_normal\n",
    "                             ),\n",
    "        tf.keras.layers.Dropout(hyper[\"dropout\"]),\n",
    "                              # kernel_initializer=keras.initializers.he_normal\n",
    "                             \n",
    "        tf.keras.layers.Dense(10, name=\"classifier\")\n",
    "    ])\n",
    "\n",
    "    hyper[\"optimizer\"] = keras.optimizers.Adam()\n",
    "    hyper[\"loss_fn\"] = keras.losses.SparseCategoricalCrossentropy(from_logits=True)\n",
    "    hyper[\"train_acc_metric\"] = keras.metrics.SparseCategoricalAccuracy()\n",
    "    hyper[\"val_acc_metric\"] = keras.metrics.SparseCategoricalAccuracy()\n",
    "    \n",
    "    val_dataset = tf.data.Dataset.from_tensor_slices((x_test, y_test))\n",
    "    val_dataset = val_dataset.batch(128)\n",
    "    \n",
    "    if pretraining:\n",
    "        print(\"Starting Pretraining\")\n",
    "        pretrain(model, x_train_labeled, y_train_labeled, val_dataset, epochs)\n",
    "    print(\"Starting Training\")\n",
    "    train(model, x_train_labeled,original_data,augmented_data, val_dataset, hyper, epochs, verbose=verbose )"
   ]
  },
  {
   "cell_type": "code",
   "execution_count": 33,
   "metadata": {
    "id": "tNSsWB_nqG-s"
   },
   "outputs": [],
   "source": [
    "def pretrain(model, x_train, y_train,val_dataset, epochs=10, verbose=False):\n",
    "    model.compile(\n",
    "        optimizer=tf.keras.optimizers.Adam(),\n",
    "        loss=tf.keras.losses.SparseCategoricalCrossentropy(from_logits=True),\n",
    "        metrics=[tf.keras.metrics.SparseCategoricalAccuracy()],\n",
    "    )\n",
    "\n",
    "    model.fit(\n",
    "        x_train, y_train,\n",
    "        epochs=epochs,\n",
    "        validation_data=val_dataset,\n",
    "        verbose=0\n",
    "    )\n",
    "    print(\"Pretraining Validation Accuracy: %.4f \\n\\n\" % model.evaluate(val_dataset, batch_size=128)[1])"
   ]
  },
  {
   "cell_type": "code",
   "execution_count": 34,
   "metadata": {
    "id": "G8XnFzMxqMXq"
   },
   "outputs": [],
   "source": [
    "def train(model,x_train_labeled,original_data,augmented_data,val_dataset, hyper, epochs=10, verbose=False):\n",
    "    \n",
    "    @tf.function\n",
    "    def test_step(x, y):\n",
    "        val_logits = model(x, training=False)\n",
    "        val_acc_metric.update_state(y, val_logits)\n",
    "    \n",
    "    unlabels_per_batch = hyper[\"unlabels_per_batch\"]\n",
    "    batch_unique_labels = hyper[\"batch_unique_labels\"]\n",
    "    labels_per_batch = hyper[\"labels_per_batch\"]\n",
    "    hyper[\"labels_per_batch\"]\n",
    "    \n",
    "    optimizer = hyper[\"optimizer\"] \n",
    "    loss_fn = hyper[\"loss_fn\"] \n",
    "    train_acc_metric = hyper[\"train_acc_metric\"]\n",
    "    val_acc_metric = hyper[\"val_acc_metric\"]\n",
    "    tsa_schedule = hyper[\"tsa_schedule\"]\n",
    "    num_classes = hyper[\"num_classes\"]\n",
    "    uda_softmax_temp = hyper[\"uda_softmax_temp\"]\n",
    "    uda_confidence_thresh = hyper[\"uda_confidence_thresh\"]\n",
    "    ent_min_coeff = hyper[\"ent_min_coeff\"]\n",
    "    lamd = hyper[\"lamd\"]\n",
    "    \n",
    "    for epoch in trange(epochs):\n",
    "        if(verbose):\n",
    "            print(\"\\nStart of epoch %d\" % (epoch,))\n",
    "        start_time = time.time()\n",
    "\n",
    "        # Iterate over the batches of the dataset.\n",
    "        for step in range(int(original_data.shape[0]/unlabels_per_batch)):\n",
    "            sup_images = x_train_labeled[int(step % batch_unique_labels)*labels_per_batch:int(step % batch_unique_labels)*labels_per_batch+labels_per_batch]\n",
    "            ori_images = original_data[step*unlabels_per_batch: step*unlabels_per_batch+unlabels_per_batch]\n",
    "            aug_images = augmented_data[step*unlabels_per_batch: step*unlabels_per_batch+unlabels_per_batch]\n",
    "\n",
    "            # x_batch_train = all_x[step*batch_size:step*batch_size+batch_size]\n",
    "            x_batch_train = np.concatenate((sup_images, ori_images, aug_images))\n",
    "            y_batch_train = y_train_labeled[int(step % batch_unique_labels)*labels_per_batch:int(step % batch_unique_labels)*labels_per_batch+labels_per_batch]\n",
    "\n",
    "            # x_train_unlabeled[i*unlabels_per_batch : i*unlabels_per_batch+unlabels_per_batch]\n",
    "            # x_train_augmented[i*unlabels_per_batch: i*unlabels_per_batch+unlabels_per_batch]\n",
    "            # Open a GradientTape to record the operations run\n",
    "            # during the forward pass, which enables auto-differentiation.\n",
    "            with tf.GradientTape() as tape:\n",
    "\n",
    "                # Run the forward pass of the layer.\n",
    "                # The operations that the layer applies\n",
    "                # to its inputs are going to be recorded\n",
    "                # on the GradientTape.\n",
    "                logits = model(x_batch_train, training=True)  # Logits for this minibatch\n",
    "                # Compute the loss value for this minibatch.\n",
    "                sup_logits = logits[:labels_per_batch]\n",
    "                sup_loss = loss_fn(y_batch_train, sup_logits)\n",
    "\n",
    "                # Use TSA training loss\n",
    "                if tsa_schedule:\n",
    "                    sup_loss, avg_sup_loss = anneal_sup_loss(sup_logits, y_batch_train, sup_loss, epoch, epochs, num_classes, tsa_schedule)\n",
    "                else:\n",
    "                    avg_sup_loss = tf.reduce_mean(sup_loss)\n",
    "                total_loss = avg_sup_loss\n",
    "\n",
    "                # Get loss from the unlabled data \n",
    "\n",
    "                # logits of unlabled real images\n",
    "                ori_logits = logits[labels_per_batch : labels_per_batch + unlabels_per_batch]\n",
    "                # logits of unlabeled augmented images\n",
    "                aug_logits = logits[labels_per_batch + unlabels_per_batch : ]\n",
    "\n",
    "                #Sharpening predictions for the kl divergence\n",
    "                if uda_softmax_temp != -1:\n",
    "                    ori_logits_tgt = ori_logits / uda_softmax_temp\n",
    "                else:\n",
    "                    ori_logits_tgt = ori_logits\n",
    "\n",
    "                # Calculate KL divergence\n",
    "                aug_loss = _kl_divergence_with_logits(\n",
    "                    p_logits=tf.stop_gradient(ori_logits_tgt),\n",
    "                    q_logits=aug_logits)\n",
    "\n",
    "                if uda_confidence_thresh != -1:\n",
    "                    ori_prob = tf.nn.softmax(ori_logits, axis=-1)\n",
    "                    largest_prob = tf.reduce_max(ori_prob, axis=-1)\n",
    "                    loss_mask = tf.cast(tf.greater(\n",
    "                        largest_prob, uda_confidence_thresh), tf.float32)\n",
    "                    loss_mask = tf.stop_gradient(loss_mask)\n",
    "                    aug_loss = aug_loss * loss_mask\n",
    "\n",
    "                if ent_min_coeff > 0:\n",
    "                    per_example_ent = get_ent(ori_logits)\n",
    "                    ent_min_loss = tf.reduce_mean(per_example_ent)\n",
    "                    total_loss = total_loss + ent_min_coeff * ent_min_loss\n",
    "                \n",
    "                avg_unsup_loss = tf.reduce_mean(aug_loss)\n",
    "\n",
    "                total_loss += lamd * avg_unsup_loss\n",
    "\n",
    "\n",
    "            # Use the gradient tape to automatically retrieve\n",
    "            # the gradients of the trainable variables with respect to the loss.\n",
    "            grads = tape.gradient(total_loss, model.trainable_weights)\n",
    "\n",
    "            # Run one step of gradient descent by updating\n",
    "            # the value of the variables to minimize the loss.\n",
    "            optimizer.apply_gradients(zip(grads, model.trainable_weights))\n",
    "\n",
    "            # Update training metric.\n",
    "            train_acc_metric.update_state(y_batch_train, logits[:labels_per_batch])\n",
    "\n",
    "            if verbose:\n",
    "                # Log every 200 batches.\n",
    "                if step % 50 == 0:\n",
    "                    print(\n",
    "                        \"Training loss (for one batch) at step %d: %.4f\"\n",
    "                        % (step, float(total_loss))\n",
    "                    )\n",
    "                    print(\"Seen so far: %s samples\" % ((step + 1) * batch_size))\n",
    "\n",
    "        # Display metrics at the end of each epoch.\n",
    "        train_acc = train_acc_metric.result()\n",
    "        print(\"Training acc over epoch: %.4f\" % (float(train_acc),))\n",
    "\n",
    "        # Reset training metrics at the end of each epoch\n",
    "        train_acc_metric.reset_states()\n",
    "\n",
    "\n",
    "        # Run a validation loop at the end of each epoch.\n",
    "        for x_batch_val, y_batch_val in val_dataset:\n",
    "            test_step(x_batch_val, y_batch_val)\n",
    "\n",
    "        val_acc = val_acc_metric.result()\n",
    "        val_acc_metric.reset_states()\n",
    "        print(\"Validation acc: %.4f\" % (float(val_acc),))\n",
    "        if verbose:\n",
    "            print(\"Time taken: %.2fs \\n\" % (time.time() - start_time))\n",
    "    return float(val_acc)\n"
   ]
  },
  {
   "cell_type": "code",
   "execution_count": 35,
   "metadata": {
    "id": "WlWKPDuT1yr4"
   },
   "outputs": [],
   "source": [
    "\n",
    "val_dataset = tf.data.Dataset.from_tensor_slices((x_test, y_test))\n",
    "val_dataset = val_dataset.batch(128)"
   ]
  },
  {
   "cell_type": "code",
   "execution_count": 36,
   "metadata": {
    "id": "zZVTyyvYqPVu"
   },
   "outputs": [],
   "source": [
    "labels_per_batch = 50\n",
    "batch_size = 128\n",
    "\n",
    "hyper = {\n",
    "    \"labels_per_batch\":labels_per_batch,\n",
    "    \"batch_size\" : batch_size,\n",
    "    \"batch_unique_labels\":100/labels_per_batch,\n",
    "    \"unlabels_per_batch\":int((batch_size-labels_per_batch)/2),\n",
    "    \"nbr_batch\" : 100,\n",
    "    \"lamd\" : 1,\n",
    "    \"tsa_schedule\":\"exp_schedule\",\n",
    "    # tsa_schedule=\"\"\n",
    "    \"num_classes\" : 10,\n",
    "    \"uda_softmax_temp\" : 0.9,\n",
    "    \"uda_confidence_thresh\" : 0.8,\n",
    "    \"ent_min_coeff\" : 0.5,\n",
    "\n",
    "    \"num_classes\" : 10,\n",
    "    \"decay_steps\" : 1000,\n",
    "    \"moving_average_decay\":0.9999,\n",
    "    \"initial_learning_rate\":1e-2,\n",
    "    \"dropout\":0.8,\n",
    "    \"l2\": 0.1\n",
    "}"
   ]
  },
  {
   "cell_type": "code",
   "execution_count": 37,
   "metadata": {
    "colab": {
     "base_uri": "https://localhost:8080/"
    },
    "id": "tHYqopfXqQie",
    "outputId": "748ab71e-2e7b-4d67-ce9c-c5a52415f95f"
   },
   "outputs": [
    {
     "name": "stdout",
     "output_type": "stream",
     "text": [
      "Starting Training\n"
     ]
    },
    {
     "name": "stderr",
     "output_type": "stream",
     "text": [
      "  0%|          | 0/10 [00:00<?, ?it/s]"
     ]
    },
    {
     "name": "stdout",
     "output_type": "stream",
     "text": [
      "Training acc over epoch: 0.6935\n"
     ]
    },
    {
     "name": "stderr",
     "output_type": "stream",
     "text": [
      " 10%|█         | 1/10 [00:14<02:06, 14.03s/it]"
     ]
    },
    {
     "name": "stdout",
     "output_type": "stream",
     "text": [
      "Validation acc: 0.7488\n",
      "Training acc over epoch: 0.9088\n"
     ]
    },
    {
     "name": "stderr",
     "output_type": "stream",
     "text": [
      " 20%|██        | 2/10 [00:28<01:52, 14.02s/it]"
     ]
    },
    {
     "name": "stdout",
     "output_type": "stream",
     "text": [
      "Validation acc: 0.7797\n"
     ]
    },
    {
     "name": "stderr",
     "output_type": "stream",
     "text": [
      " 30%|███       | 3/10 [00:43<01:42, 14.60s/it]"
     ]
    },
    {
     "name": "stdout",
     "output_type": "stream",
     "text": [
      "Training acc over epoch: 0.9297\n",
      "Validation acc: 0.7777\n"
     ]
    },
    {
     "name": "stderr",
     "output_type": "stream",
     "text": [
      " 40%|████      | 4/10 [00:57<01:26, 14.49s/it]"
     ]
    },
    {
     "name": "stdout",
     "output_type": "stream",
     "text": [
      "Training acc over epoch: 0.9439\n",
      "Validation acc: 0.7974\n"
     ]
    },
    {
     "name": "stderr",
     "output_type": "stream",
     "text": [
      " 50%|█████     | 5/10 [01:10<01:10, 14.04s/it]"
     ]
    },
    {
     "name": "stdout",
     "output_type": "stream",
     "text": [
      "Training acc over epoch: 0.9515\n",
      "Validation acc: 0.8099\n"
     ]
    },
    {
     "name": "stderr",
     "output_type": "stream",
     "text": [
      " 60%|██████    | 6/10 [01:24<00:55, 13.78s/it]"
     ]
    },
    {
     "name": "stdout",
     "output_type": "stream",
     "text": [
      "Training acc over epoch: 0.9545\n",
      "Validation acc: 0.8149\n"
     ]
    },
    {
     "name": "stderr",
     "output_type": "stream",
     "text": [
      " 70%|███████   | 7/10 [01:37<00:40, 13.63s/it]"
     ]
    },
    {
     "name": "stdout",
     "output_type": "stream",
     "text": [
      "Training acc over epoch: 0.9593\n",
      "Validation acc: 0.8277\n"
     ]
    },
    {
     "name": "stderr",
     "output_type": "stream",
     "text": [
      " 80%|████████  | 8/10 [01:51<00:27, 13.73s/it]"
     ]
    },
    {
     "name": "stdout",
     "output_type": "stream",
     "text": [
      "Training acc over epoch: 0.9665\n",
      "Validation acc: 0.8340\n",
      "Training acc over epoch: 0.9697\n"
     ]
    },
    {
     "name": "stderr",
     "output_type": "stream",
     "text": [
      " 90%|█████████ | 9/10 [02:05<00:13, 13.90s/it]"
     ]
    },
    {
     "name": "stdout",
     "output_type": "stream",
     "text": [
      "Validation acc: 0.8323\n",
      "Training acc over epoch: 0.9704\n"
     ]
    },
    {
     "name": "stderr",
     "output_type": "stream",
     "text": [
      "100%|██████████| 10/10 [02:20<00:00, 14.04s/it]"
     ]
    },
    {
     "name": "stdout",
     "output_type": "stream",
     "text": [
      "Validation acc: 0.8347\n"
     ]
    },
    {
     "name": "stderr",
     "output_type": "stream",
     "text": [
      "\n"
     ]
    }
   ],
   "source": [
    "create_train(hyper, epochs=10, pretraining=False, verbose=False)"
   ]
  }
 ],
 "metadata": {
  "colab": {
   "collapsed_sections": [
    "N0n-M1Xpd-fl",
    "yO8OPXjJgFE3"
   ],
   "name": "DeepL_Project",
   "provenance": []
  },
  "kernelspec": {
   "display_name": "default:Python",
   "language": "python",
   "name": "conda-env-default-py"
  },
  "language_info": {
   "codemirror_mode": {
    "name": "ipython",
    "version": 3
   },
   "file_extension": ".py",
   "mimetype": "text/x-python",
   "name": "python",
   "nbconvert_exporter": "python",
   "pygments_lexer": "ipython3",
   "version": "3.9.7"
  }
 },
 "nbformat": 4,
 "nbformat_minor": 4
}
